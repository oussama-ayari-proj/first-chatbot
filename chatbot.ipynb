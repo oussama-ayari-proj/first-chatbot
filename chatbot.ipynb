{
 "cells": [
  {
   "cell_type": "markdown",
   "id": "c330a56e",
   "metadata": {},
   "source": [
    "# Develop a Chatbot Using Python, NLTK, and TensorFlow"
   ]
  },
  {
   "cell_type": "code",
   "execution_count": null,
   "id": "def6dacc",
   "metadata": {},
   "outputs": [],
   "source": [
    "# Run this cell so you do not see GPU availibility errors from tensorflow\n",
    "import os\n",
    "os.environ['TF_CPP_MIN_LOG_LEVEL'] = '3' "
   ]
  },
  {
   "cell_type": "markdown",
   "id": "5e94e204",
   "metadata": {},
   "source": [
    "### Task 1: Import the Required Libraries"
   ]
  },
  {
   "cell_type": "code",
   "execution_count": null,
   "id": "f52da516",
   "metadata": {},
   "outputs": [],
   "source": []
  },
  {
   "cell_type": "markdown",
   "id": "703028ff",
   "metadata": {},
   "source": [
    "### Task 2: Load the Data"
   ]
  },
  {
   "cell_type": "code",
   "execution_count": null,
   "id": "1aa0f9e2",
   "metadata": {},
   "outputs": [],
   "source": []
  },
  {
   "cell_type": "markdown",
   "id": "c433287e",
   "metadata": {},
   "source": [
    "### Task 3: Tokenization"
   ]
  },
  {
   "cell_type": "code",
   "execution_count": null,
   "id": "59c0eea6",
   "metadata": {},
   "outputs": [],
   "source": []
  },
  {
   "cell_type": "markdown",
   "id": "730c4e10",
   "metadata": {},
   "source": [
    "### Task 4: Lemmatization"
   ]
  },
  {
   "cell_type": "code",
   "execution_count": null,
   "id": "7dca8909",
   "metadata": {},
   "outputs": [],
   "source": []
  },
  {
   "cell_type": "markdown",
   "id": "8d1151a4",
   "metadata": {},
   "source": [
    "### Task 5: Create Data for Training"
   ]
  },
  {
   "cell_type": "code",
   "execution_count": null,
   "id": "37cb0936",
   "metadata": {},
   "outputs": [],
   "source": []
  },
  {
   "cell_type": "markdown",
   "id": "18d4a75b",
   "metadata": {},
   "source": [
    "### Task 6: Design the Model"
   ]
  },
  {
   "cell_type": "code",
   "execution_count": null,
   "id": "5946b0bf",
   "metadata": {},
   "outputs": [],
   "source": []
  },
  {
   "cell_type": "markdown",
   "id": "9dea6cd1",
   "metadata": {},
   "source": [
    "### Task 7: Train and Save the Model"
   ]
  },
  {
   "cell_type": "code",
   "execution_count": null,
   "id": "8c8ce841",
   "metadata": {},
   "outputs": [],
   "source": []
  },
  {
   "cell_type": "markdown",
   "id": "bcd1831e",
   "metadata": {},
   "source": [
    "### Task 8: Print the Training Curves"
   ]
  },
  {
   "cell_type": "code",
   "execution_count": null,
   "id": "3511b176",
   "metadata": {},
   "outputs": [],
   "source": []
  }
 ],
 "metadata": {
  "kernelspec": {
   "display_name": "Python 3",
   "language": "python",
   "name": "python3"
  },
  "language_info": {
   "codemirror_mode": {
    "name": "ipython",
    "version": 3
   },
   "file_extension": ".py",
   "mimetype": "text/x-python",
   "name": "python",
   "nbconvert_exporter": "python",
   "pygments_lexer": "ipython3",
   "version": "3.8.10"
  },
  "vscode": {
   "interpreter": {
    "hash": "e7370f93d1d0cde622a1f8e1c04877d8463912d04d973331ad4851f04de6915a"
   }
  }
 },
 "nbformat": 4,
 "nbformat_minor": 5
}
